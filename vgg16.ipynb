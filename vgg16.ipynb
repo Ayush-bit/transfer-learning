{
 "cells": [
  {
   "cell_type": "code",
   "execution_count": 3,
   "id": "3ff1e7cd",
   "metadata": {},
   "outputs": [],
   "source": [
    "import numpy as np \n",
    "import matplotlib.pyplot as plt\n",
    "import glob\n",
    "import cv2\n"
   ]
  },
  {
   "cell_type": "code",
   "execution_count": 4,
   "id": "dedaeb2b",
   "metadata": {},
   "outputs": [],
   "source": [
    "from keras.models import Model, Sequential\n",
    "from keras.layers import Dense, Flatten, Conv2D, MaxPooling2D\n",
    "from keras.layers.normalization import BatchNormalization\n",
    "import os\n",
    "import seaborn as sns\n",
    "from keras.applications.vgg16 import VGG16"
   ]
  },
  {
   "cell_type": "code",
   "execution_count": 5,
   "id": "ed952587",
   "metadata": {},
   "outputs": [
    {
     "name": "stdout",
     "output_type": "stream",
     "text": [
      "['test', 'train']\n"
     ]
    }
   ],
   "source": [
    "print(os.listdir(r\"C:\\Users\\hp\\Downloads\\Images\"))"
   ]
  },
  {
   "cell_type": "code",
   "execution_count": 6,
   "id": "caa919f4",
   "metadata": {},
   "outputs": [],
   "source": [
    "SIZE = 256"
   ]
  },
  {
   "cell_type": "code",
   "execution_count": 7,
   "id": "4220c988",
   "metadata": {},
   "outputs": [],
   "source": [
    "train_images = []\n",
    "train_labels = [] \n"
   ]
  },
  {
   "cell_type": "code",
   "execution_count": 8,
   "id": "6faabdf8",
   "metadata": {},
   "outputs": [
    {
     "name": "stdout",
     "output_type": "stream",
     "text": [
      "covid\n",
      "C:\\Users\\hp\\Downloads\\Images\\train\\covid\\f.jpeg\n",
      "C:\\Users\\hp\\Downloads\\Images\\train\\covid\\g.jpeg\n",
      "C:\\Users\\hp\\Downloads\\Images\\train\\covid\\h.jpeg\n",
      "C:\\Users\\hp\\Downloads\\Images\\train\\covid\\i.jpeg\n",
      "C:\\Users\\hp\\Downloads\\Images\\train\\covid\\l.jpeg\n",
      "C:\\Users\\hp\\Downloads\\Images\\train\\covid\\m.jpeg\n",
      "C:\\Users\\hp\\Downloads\\Images\\train\\covid\\n.jpeg\n",
      "C:\\Users\\hp\\Downloads\\Images\\train\\covid\\o.jpeg\n",
      "C:\\Users\\hp\\Downloads\\Images\\train\\covid\\p.jpeg\n",
      "C:\\Users\\hp\\Downloads\\Images\\train\\covid\\q.jpeg\n",
      "C:\\Users\\hp\\Downloads\\Images\\train\\covid\\r.jpeg\n",
      "C:\\Users\\hp\\Downloads\\Images\\train\\covid\\s.jpeg\n",
      "C:\\Users\\hp\\Downloads\\Images\\train\\covid\\t.jpeg\n",
      "non-covid\n",
      "C:\\Users\\hp\\Downloads\\Images\\train\\non-covid\\10.jpeg\n",
      "C:\\Users\\hp\\Downloads\\Images\\train\\non-covid\\11.jpeg\n",
      "C:\\Users\\hp\\Downloads\\Images\\train\\non-covid\\12.jpeg\n",
      "C:\\Users\\hp\\Downloads\\Images\\train\\non-covid\\13.jpeg\n",
      "C:\\Users\\hp\\Downloads\\Images\\train\\non-covid\\14.jpeg\n",
      "C:\\Users\\hp\\Downloads\\Images\\train\\non-covid\\15.jpeg\n",
      "C:\\Users\\hp\\Downloads\\Images\\train\\non-covid\\16.jpeg\n",
      "C:\\Users\\hp\\Downloads\\Images\\train\\non-covid\\17.jpeg\n",
      "C:\\Users\\hp\\Downloads\\Images\\train\\non-covid\\18.jpeg\n",
      "C:\\Users\\hp\\Downloads\\Images\\train\\non-covid\\19.jpeg\n",
      "C:\\Users\\hp\\Downloads\\Images\\train\\non-covid\\20.jpeg\n",
      "C:\\Users\\hp\\Downloads\\Images\\train\\non-covid\\21.jpeg\n",
      "C:\\Users\\hp\\Downloads\\Images\\train\\non-covid\\22.jpeg\n",
      "C:\\Users\\hp\\Downloads\\Images\\train\\non-covid\\23.jpeg\n",
      "C:\\Users\\hp\\Downloads\\Images\\train\\non-covid\\24.jpeg\n",
      "C:\\Users\\hp\\Downloads\\Images\\train\\non-covid\\25.jpeg\n",
      "C:\\Users\\hp\\Downloads\\Images\\train\\non-covid\\26.jpeg\n",
      "C:\\Users\\hp\\Downloads\\Images\\train\\non-covid\\27.jpeg\n",
      "C:\\Users\\hp\\Downloads\\Images\\train\\non-covid\\28.jpeg\n",
      "C:\\Users\\hp\\Downloads\\Images\\train\\non-covid\\29.jpeg\n",
      "C:\\Users\\hp\\Downloads\\Images\\train\\non-covid\\3.jpeg\n",
      "C:\\Users\\hp\\Downloads\\Images\\train\\non-covid\\30.jpeg\n",
      "C:\\Users\\hp\\Downloads\\Images\\train\\non-covid\\31.jpeg\n",
      "C:\\Users\\hp\\Downloads\\Images\\train\\non-covid\\32.jpeg\n",
      "C:\\Users\\hp\\Downloads\\Images\\train\\non-covid\\33.jpeg\n",
      "C:\\Users\\hp\\Downloads\\Images\\train\\non-covid\\34.jpeg\n",
      "C:\\Users\\hp\\Downloads\\Images\\train\\non-covid\\35.jpeg\n",
      "C:\\Users\\hp\\Downloads\\Images\\train\\non-covid\\36.jpeg\n",
      "C:\\Users\\hp\\Downloads\\Images\\train\\non-covid\\37.jpeg\n",
      "C:\\Users\\hp\\Downloads\\Images\\train\\non-covid\\38.jpeg\n",
      "C:\\Users\\hp\\Downloads\\Images\\train\\non-covid\\39.jpeg\n",
      "C:\\Users\\hp\\Downloads\\Images\\train\\non-covid\\4.jpeg\n",
      "C:\\Users\\hp\\Downloads\\Images\\train\\non-covid\\40.jpeg\n",
      "C:\\Users\\hp\\Downloads\\Images\\train\\non-covid\\41.jpeg\n",
      "C:\\Users\\hp\\Downloads\\Images\\train\\non-covid\\42.jpeg\n",
      "C:\\Users\\hp\\Downloads\\Images\\train\\non-covid\\43.jpeg\n",
      "C:\\Users\\hp\\Downloads\\Images\\train\\non-covid\\44.jpeg\n",
      "C:\\Users\\hp\\Downloads\\Images\\train\\non-covid\\45.jpeg\n",
      "C:\\Users\\hp\\Downloads\\Images\\train\\non-covid\\46.jpeg\n",
      "C:\\Users\\hp\\Downloads\\Images\\train\\non-covid\\47.jpeg\n",
      "C:\\Users\\hp\\Downloads\\Images\\train\\non-covid\\48.jpeg\n",
      "C:\\Users\\hp\\Downloads\\Images\\train\\non-covid\\49.jpeg\n",
      "C:\\Users\\hp\\Downloads\\Images\\train\\non-covid\\5.jpeg\n",
      "C:\\Users\\hp\\Downloads\\Images\\train\\non-covid\\50.jpeg\n",
      "C:\\Users\\hp\\Downloads\\Images\\train\\non-covid\\51.jpeg\n",
      "C:\\Users\\hp\\Downloads\\Images\\train\\non-covid\\52.jpeg\n",
      "C:\\Users\\hp\\Downloads\\Images\\train\\non-covid\\53.jpeg\n",
      "C:\\Users\\hp\\Downloads\\Images\\train\\non-covid\\54.jpeg\n",
      "C:\\Users\\hp\\Downloads\\Images\\train\\non-covid\\55.jpeg\n",
      "C:\\Users\\hp\\Downloads\\Images\\train\\non-covid\\56.jpeg\n",
      "C:\\Users\\hp\\Downloads\\Images\\train\\non-covid\\57.jpeg\n",
      "C:\\Users\\hp\\Downloads\\Images\\train\\non-covid\\58.jpeg\n",
      "C:\\Users\\hp\\Downloads\\Images\\train\\non-covid\\59.jpeg\n",
      "C:\\Users\\hp\\Downloads\\Images\\train\\non-covid\\6.jpeg\n",
      "C:\\Users\\hp\\Downloads\\Images\\train\\non-covid\\60.jpeg\n",
      "C:\\Users\\hp\\Downloads\\Images\\train\\non-covid\\61.jpeg\n",
      "C:\\Users\\hp\\Downloads\\Images\\train\\non-covid\\62.jpeg\n",
      "C:\\Users\\hp\\Downloads\\Images\\train\\non-covid\\7.jpeg\n",
      "C:\\Users\\hp\\Downloads\\Images\\train\\non-covid\\8.jpeg\n",
      "C:\\Users\\hp\\Downloads\\Images\\train\\non-covid\\9.jpeg\n"
     ]
    }
   ],
   "source": [
    "for directory_path in glob.glob(r\"C:\\Users\\hp\\Downloads\\Images\\train\\*\"):\n",
    "    label = directory_path.split(\"\\\\\")[-1]\n",
    "    print(label)\n",
    "    for img_path in glob.glob(os.path.join(directory_path, \"*.jpeg\")):\n",
    "        print(img_path)\n",
    "        img = cv2.imread(img_path, cv2.IMREAD_COLOR)       \n",
    "        img = cv2.resize(img, (SIZE, SIZE))\n",
    "        img = cv2.cvtColor(img, cv2.COLOR_RGB2BGR)\n",
    "        train_images.append(img)\n",
    "        train_labels.append(label)"
   ]
  },
  {
   "cell_type": "code",
   "execution_count": 13,
   "id": "9840ffac",
   "metadata": {},
   "outputs": [],
   "source": [
    "train_images = np.array(train_images)\n",
    "train_labels = np.array(train_labels)\n"
   ]
  },
  {
   "cell_type": "code",
   "execution_count": 14,
   "id": "ca1b47c7",
   "metadata": {},
   "outputs": [
    {
     "data": {
      "text/plain": [
       "(73, 256, 256, 3)"
      ]
     },
     "execution_count": 14,
     "metadata": {},
     "output_type": "execute_result"
    }
   ],
   "source": [
    "train_images.shape"
   ]
  },
  {
   "cell_type": "code",
   "execution_count": 15,
   "id": "b7318b06",
   "metadata": {},
   "outputs": [
    {
     "data": {
      "text/plain": [
       "(73,)"
      ]
     },
     "execution_count": 15,
     "metadata": {},
     "output_type": "execute_result"
    }
   ],
   "source": [
    "train_labels.shape"
   ]
  },
  {
   "cell_type": "code",
   "execution_count": 16,
   "id": "b3b42b15",
   "metadata": {},
   "outputs": [
    {
     "name": "stdout",
     "output_type": "stream",
     "text": [
      "covid\n",
      "non-covid\n"
     ]
    }
   ],
   "source": [
    "test_images = []\n",
    "test_labels = [] \n",
    "for directory_path in glob.glob(r\"C:\\Users\\hp\\Downloads\\Images\\test\\*\"):\n",
    "    Label = directory_path.split(\"\\\\\")[-1]\n",
    "    print(Label)\n",
    "    for img_path in glob.glob(os.path.join(directory_path, \"*.jpeg\")):\n",
    "        img = cv2.imread(img_path, cv2.IMREAD_COLOR)\n",
    "        img = cv2.resize(img, (SIZE, SIZE))\n",
    "        img = cv2.cvtColor(img, cv2.COLOR_RGB2BGR)\n",
    "        test_images.append(img)\n",
    "        test_labels.append(Label)"
   ]
  },
  {
   "cell_type": "code",
   "execution_count": 17,
   "id": "54a2ab12",
   "metadata": {},
   "outputs": [],
   "source": [
    "test_images = np.array(test_images)\n",
    "test_labels = np.array(test_labels)"
   ]
  },
  {
   "cell_type": "code",
   "execution_count": 18,
   "id": "157d05bf",
   "metadata": {},
   "outputs": [
    {
     "data": {
      "text/plain": [
       "(19, 256, 256, 3)"
      ]
     },
     "execution_count": 18,
     "metadata": {},
     "output_type": "execute_result"
    }
   ],
   "source": [
    "test_images.shape"
   ]
  },
  {
   "cell_type": "code",
   "execution_count": 19,
   "id": "6e66423b",
   "metadata": {},
   "outputs": [],
   "source": [
    "from sklearn import preprocessing\n",
    "le = preprocessing.LabelEncoder()\n",
    "le.fit(test_labels)\n",
    "test_labels_encoded = le.transform(test_labels)\n",
    "le.fit(train_labels)\n",
    "train_labels_encoded = le.transform(train_labels)"
   ]
  },
  {
   "cell_type": "code",
   "execution_count": 20,
   "id": "ad74b1f1",
   "metadata": {},
   "outputs": [],
   "source": [
    "x_train, y_train, x_test, y_test = train_images, train_labels_encoded, test_images, test_labels_encoded\n"
   ]
  },
  {
   "cell_type": "code",
   "execution_count": 21,
   "id": "429d83a3",
   "metadata": {},
   "outputs": [],
   "source": [
    "x_train, x_test = x_train / 255.0, x_test / 255.0"
   ]
  },
  {
   "cell_type": "code",
   "execution_count": 22,
   "id": "2eb597ff",
   "metadata": {},
   "outputs": [],
   "source": [
    "from keras.utils import to_categorical\n",
    "y_train_one_hot = to_categorical(y_train)\n",
    "y_test_one_hot = to_categorical(y_test)\n"
   ]
  },
  {
   "cell_type": "code",
   "execution_count": 23,
   "id": "51a799a0",
   "metadata": {},
   "outputs": [],
   "source": [
    "VGG_model = VGG16(weights='imagenet', include_top=False, input_shape=(SIZE, SIZE, 3))\n"
   ]
  },
  {
   "cell_type": "code",
   "execution_count": 24,
   "id": "8b019b53",
   "metadata": {},
   "outputs": [],
   "source": [
    "for layer in VGG_model.layers:\n",
    " layer.trainable = False"
   ]
  },
  {
   "cell_type": "code",
   "execution_count": 25,
   "id": "cc4213a4",
   "metadata": {},
   "outputs": [
    {
     "name": "stdout",
     "output_type": "stream",
     "text": [
      "Model: \"vgg16\"\n",
      "_________________________________________________________________\n",
      "Layer (type)                 Output Shape              Param #   \n",
      "=================================================================\n",
      "input_1 (InputLayer)         [(None, 256, 256, 3)]     0         \n",
      "_________________________________________________________________\n",
      "block1_conv1 (Conv2D)        (None, 256, 256, 64)      1792      \n",
      "_________________________________________________________________\n",
      "block1_conv2 (Conv2D)        (None, 256, 256, 64)      36928     \n",
      "_________________________________________________________________\n",
      "block1_pool (MaxPooling2D)   (None, 128, 128, 64)      0         \n",
      "_________________________________________________________________\n",
      "block2_conv1 (Conv2D)        (None, 128, 128, 128)     73856     \n",
      "_________________________________________________________________\n",
      "block2_conv2 (Conv2D)        (None, 128, 128, 128)     147584    \n",
      "_________________________________________________________________\n",
      "block2_pool (MaxPooling2D)   (None, 64, 64, 128)       0         \n",
      "_________________________________________________________________\n",
      "block3_conv1 (Conv2D)        (None, 64, 64, 256)       295168    \n",
      "_________________________________________________________________\n",
      "block3_conv2 (Conv2D)        (None, 64, 64, 256)       590080    \n",
      "_________________________________________________________________\n",
      "block3_conv3 (Conv2D)        (None, 64, 64, 256)       590080    \n",
      "_________________________________________________________________\n",
      "block3_pool (MaxPooling2D)   (None, 32, 32, 256)       0         \n",
      "_________________________________________________________________\n",
      "block4_conv1 (Conv2D)        (None, 32, 32, 512)       1180160   \n",
      "_________________________________________________________________\n",
      "block4_conv2 (Conv2D)        (None, 32, 32, 512)       2359808   \n",
      "_________________________________________________________________\n",
      "block4_conv3 (Conv2D)        (None, 32, 32, 512)       2359808   \n",
      "_________________________________________________________________\n",
      "block4_pool (MaxPooling2D)   (None, 16, 16, 512)       0         \n",
      "_________________________________________________________________\n",
      "block5_conv1 (Conv2D)        (None, 16, 16, 512)       2359808   \n",
      "_________________________________________________________________\n",
      "block5_conv2 (Conv2D)        (None, 16, 16, 512)       2359808   \n",
      "_________________________________________________________________\n",
      "block5_conv3 (Conv2D)        (None, 16, 16, 512)       2359808   \n",
      "_________________________________________________________________\n",
      "block5_pool (MaxPooling2D)   (None, 8, 8, 512)         0         \n",
      "=================================================================\n",
      "Total params: 14,714,688\n",
      "Trainable params: 0\n",
      "Non-trainable params: 14,714,688\n",
      "_________________________________________________________________\n"
     ]
    }
   ],
   "source": [
    "VGG_model.summary()"
   ]
  },
  {
   "cell_type": "code",
   "execution_count": 26,
   "id": "3a6333ea",
   "metadata": {},
   "outputs": [],
   "source": [
    "feature_extractor=VGG_model.predict(x_train)"
   ]
  },
  {
   "cell_type": "code",
   "execution_count": 27,
   "id": "ed4b5cf0",
   "metadata": {},
   "outputs": [],
   "source": [
    "features = feature_extractor.reshape(feature_extractor.shape[0], -1)"
   ]
  },
  {
   "cell_type": "code",
   "execution_count": 28,
   "id": "98dd325c",
   "metadata": {},
   "outputs": [],
   "source": [
    "X_for_RF = features"
   ]
  },
  {
   "cell_type": "code",
   "execution_count": 29,
   "id": "2f92d0f1",
   "metadata": {},
   "outputs": [],
   "source": [
    "from sklearn.svm import SVC\n",
    "svclassifier = SVC(kernel='linear')"
   ]
  },
  {
   "cell_type": "code",
   "execution_count": 30,
   "id": "3062e7df",
   "metadata": {},
   "outputs": [
    {
     "data": {
      "text/plain": [
       "SVC(kernel='linear')"
      ]
     },
     "execution_count": 30,
     "metadata": {},
     "output_type": "execute_result"
    }
   ],
   "source": [
    "svclassifier.fit(X_for_RF, y_train)"
   ]
  },
  {
   "cell_type": "code",
   "execution_count": 31,
   "id": "a9ea3796",
   "metadata": {},
   "outputs": [],
   "source": [
    "X_test_feature = VGG_model.predict(x_test)\n",
    "X_test_features = X_test_feature.reshape(X_test_feature.shape[0], -1)"
   ]
  },
  {
   "cell_type": "code",
   "execution_count": 32,
   "id": "c7f7d13a",
   "metadata": {},
   "outputs": [],
   "source": [
    "prediction_RF = svclassifier.predict(X_test_features)"
   ]
  },
  {
   "cell_type": "code",
   "execution_count": 33,
   "id": "acd620fc",
   "metadata": {},
   "outputs": [],
   "source": [
    "prediction_RF = le.inverse_transform(prediction_RF)"
   ]
  },
  {
   "cell_type": "code",
   "execution_count": 34,
   "id": "6a069c3f",
   "metadata": {},
   "outputs": [
    {
     "name": "stdout",
     "output_type": "stream",
     "text": [
      "Accuracy =  0.8947368421052632\n"
     ]
    }
   ],
   "source": [
    "from sklearn import metrics\n",
    "print (\"Accuracy = \", metrics.accuracy_score(test_labels, prediction_RF))\n"
   ]
  },
  {
   "cell_type": "code",
   "execution_count": 35,
   "id": "34e40832",
   "metadata": {},
   "outputs": [],
   "source": [
    "from sklearn.metrics import confusion_matrix"
   ]
  },
  {
   "cell_type": "code",
   "execution_count": 36,
   "id": "5bd427c7",
   "metadata": {},
   "outputs": [
    {
     "name": "stdout",
     "output_type": "stream",
     "text": [
      "[[ 2  2]\n",
      " [ 0 15]]\n"
     ]
    }
   ],
   "source": [
    "cm = confusion_matrix(test_labels, prediction_RF)\n",
    "print(cm)"
   ]
  },
  {
   "cell_type": "code",
   "execution_count": 37,
   "id": "b2755c4b",
   "metadata": {},
   "outputs": [
    {
     "data": {
      "text/plain": [
       "<AxesSubplot:>"
      ]
     },
     "execution_count": 37,
     "metadata": {},
     "output_type": "execute_result"
    },
    {
     "data": {
      "image/png": "[encoded data removed]",
      "text/plain": [
       "<Figure size 432x288 with 2 Axes>"
      ]
     },
     "metadata": {
      "needs_background": "light"
     },
     "output_type": "display_data"
    }
   ],
   "source": [
    "sns.heatmap(cm, annot=True)"
   ]
  },
  {
   "cell_type": "code",
   "execution_count": 38,
   "id": "eaf55960",
   "metadata": {},
   "outputs": [
    {
     "name": "stdout",
     "output_type": "stream",
     "text": [
      "The prediction for this image is:  ['non-covid']\n",
      "The actual label for this image is:  non-covid\n"
     ]
    },
    {
     "data": {
      "image/png": "[encoded data removed]",
      "text/plain": [
       "<Figure size 432x288 with 1 Axes>"
      ]
     },
     "metadata": {
      "needs_background": "light"
     },
     "output_type": "display_data"
    }
   ],
   "source": [
    "n=np.random.randint(0, x_test.shape[0])\n",
    "img = x_test[n]\n",
    "plt.imshow(img)\n",
    "input_img = np.expand_dims(img, axis=0) \n",
    "input_img_feature=VGG_model.predict(input_img)\n",
    "input_img_features=input_img_feature.reshape(input_img_feature.shape[0], -1)\n",
    "prediction_RF = svclassifier.predict(input_img_features)[0] \n",
    "prediction_RF = le.inverse_transform([prediction_RF]) \n",
    "print(\"The prediction for this image is: \", prediction_RF)\n",
    "print(\"The actual label for this image is: \", test_labels[n])\n"
   ]
  },
  {
   "cell_type": "code",
   "execution_count": 39,
   "id": "e70812d6",
   "metadata": {},
   "outputs": [],
   "source": [
    "from sklearn.ensemble import RandomForestClassifier\n",
    "RF_model = RandomForestClassifier(n_estimators = 50, random_state = 42)"
   ]
  },
  {
   "cell_type": "code",
   "execution_count": 40,
   "id": "3d28812a",
   "metadata": {},
   "outputs": [
    {
     "data": {
      "text/plain": [
       "RandomForestClassifier(n_estimators=50, random_state=42)"
      ]
     },
     "execution_count": 40,
     "metadata": {},
     "output_type": "execute_result"
    }
   ],
   "source": [
    "RF_model.fit(X_for_RF, y_train)"
   ]
  },
  {
   "cell_type": "code",
   "execution_count": 41,
   "id": "e731d442",
   "metadata": {},
   "outputs": [],
   "source": [
    "prediction_RF = RF_model.predict(X_test_features)"
   ]
  },
  {
   "cell_type": "code",
   "execution_count": 42,
   "id": "445301a3",
   "metadata": {},
   "outputs": [],
   "source": [
    "prediction_RF = le.inverse_transform(prediction_RF)"
   ]
  },
  {
   "cell_type": "code",
   "execution_count": 43,
   "id": "986f0b8c",
   "metadata": {},
   "outputs": [
    {
     "name": "stdout",
     "output_type": "stream",
     "text": [
      "Accuracy =  0.8421052631578947\n"
     ]
    }
   ],
   "source": [
    "from sklearn import metrics\n",
    "print (\"Accuracy = \", metrics.accuracy_score(test_labels, prediction_RF))"
   ]
  },
  {
   "cell_type": "code",
   "execution_count": 44,
   "id": "eef40cf3",
   "metadata": {},
   "outputs": [
    {
     "name": "stdout",
     "output_type": "stream",
     "text": [
      "[[ 1  3]\n",
      " [ 0 15]]\n"
     ]
    }
   ],
   "source": [
    "cm = confusion_matrix(test_labels, prediction_RF)\n",
    "print(cm)"
   ]
  },
  {
   "cell_type": "code",
   "execution_count": 45,
   "id": "d96c01ce",
   "metadata": {},
   "outputs": [
    {
     "data": {
      "text/plain": [
       "<AxesSubplot:>"
      ]
     },
     "execution_count": 45,
     "metadata": {},
     "output_type": "execute_result"
    },
    {
     "data": {
      "image/png": "[encoded data removed]",
      "text/plain": [
       "<Figure size 432x288 with 2 Axes>"
      ]
     },
     "metadata": {
      "needs_background": "light"
     },
     "output_type": "display_data"
    }
   ],
   "source": [
    "sns.heatmap(cm, annot=True)"
   ]
  },
  {
   "cell_type": "code",
   "execution_count": 46,
   "id": "110f5bf9",
   "metadata": {},
   "outputs": [],
   "source": [
    "from sklearn.neighbors import KNeighborsClassifier\n",
    "knn_model= KNeighborsClassifier(n_neighbors=5,metric='minkowski')"
   ]
  },
  {
   "cell_type": "code",
   "execution_count": 47,
   "id": "592c16ef",
   "metadata": {},
   "outputs": [
    {
     "data": {
      "text/plain": [
       "KNeighborsClassifier()"
      ]
     },
     "execution_count": 47,
     "metadata": {},
     "output_type": "execute_result"
    }
   ],
   "source": [
    "knn_model.fit(X_for_RF, y_train)"
   ]
  },
  {
   "cell_type": "code",
   "execution_count": 48,
   "id": "7aa307e0",
   "metadata": {},
   "outputs": [],
   "source": [
    "prediction_RF = knn_model.predict(X_test_features)"
   ]
  },
  {
   "cell_type": "code",
   "execution_count": 49,
   "id": "9b91ad75",
   "metadata": {},
   "outputs": [],
   "source": [
    "prediction_RF = le.inverse_transform(prediction_RF)"
   ]
  },
  {
   "cell_type": "code",
   "execution_count": 50,
   "id": "3cb57b0b",
   "metadata": {},
   "outputs": [
    {
     "name": "stdout",
     "output_type": "stream",
     "text": [
      "Accuracy =  0.8947368421052632\n"
     ]
    }
   ],
   "source": [
    "from sklearn import metrics\n",
    "print (\"Accuracy = \", metrics.accuracy_score(test_labels, prediction_RF))\n"
   ]
  },
  {
   "cell_type": "code",
   "execution_count": 53,
   "id": "9849afa9",
   "metadata": {},
   "outputs": [],
   "source": [
    "from sklearn.naive_bayes import GaussianNB\n",
    "nb_model = GaussianNB()"
   ]
  },
  {
   "cell_type": "code",
   "execution_count": 54,
   "id": "f4fd1278",
   "metadata": {},
   "outputs": [
    {
     "data": {
      "text/plain": [
       "GaussianNB()"
      ]
     },
     "execution_count": 54,
     "metadata": {},
     "output_type": "execute_result"
    }
   ],
   "source": [
    "nb_model.fit(X_for_RF, y_train)"
   ]
  },
  {
   "cell_type": "code",
   "execution_count": 55,
   "id": "944e6f57",
   "metadata": {},
   "outputs": [],
   "source": [
    "prediction_RF = nb_model.predict(X_test_features)"
   ]
  },
  {
   "cell_type": "code",
   "execution_count": 56,
   "id": "e0b67935",
   "metadata": {},
   "outputs": [],
   "source": [
    "prediction_RF = le.inverse_transform(prediction_RF)"
   ]
  },
  {
   "cell_type": "code",
   "execution_count": 57,
   "id": "f5229e25",
   "metadata": {},
   "outputs": [
    {
     "name": "stdout",
     "output_type": "stream",
     "text": [
      "Accuracy =  0.8421052631578947\n"
     ]
    }
   ],
   "source": [
    "from sklearn import metrics\n",
    "print (\"Accuracy = \", metrics.accuracy_score(test_labels, prediction_RF))\n"
   ]
  },
  {
   "cell_type": "code",
   "execution_count": 58,
   "id": "668e9231",
   "metadata": {},
   "outputs": [],
   "source": [
    "from sklearn.ensemble import AdaBoostClassifier\n",
    "ada_model=AdaBoostClassifier(n_estimators=50)"
   ]
  },
  {
   "cell_type": "code",
   "execution_count": 59,
   "id": "d707d50c",
   "metadata": {},
   "outputs": [
    {
     "data": {
      "text/plain": [
       "AdaBoostClassifier()"
      ]
     },
     "execution_count": 59,
     "metadata": {},
     "output_type": "execute_result"
    }
   ],
   "source": [
    "ada_model.fit(X_for_RF, y_train)"
   ]
  },
  {
   "cell_type": "code",
   "execution_count": 60,
   "id": "a0dd2c01",
   "metadata": {},
   "outputs": [],
   "source": [
    "prediction_RF = ada_model.predict(X_test_features)"
   ]
  },
  {
   "cell_type": "code",
   "execution_count": 61,
   "id": "ed11b32a",
   "metadata": {},
   "outputs": [],
   "source": [
    "prediction_RF = le.inverse_transform(prediction_RF)"
   ]
  },
  {
   "cell_type": "code",
   "execution_count": 62,
   "id": "ff0699c4",
   "metadata": {},
   "outputs": [
    {
     "name": "stdout",
     "output_type": "stream",
     "text": [
      "Accuracy =  0.9473684210526315\n"
     ]
    }
   ],
   "source": [
    "from sklearn import metrics\n",
    "print (\"Accuracy = \", metrics.accuracy_score(test_labels, prediction_RF))\n"
   ]
  },
  {
   "cell_type": "code",
   "execution_count": 64,
   "id": "37f3b51e",
   "metadata": {},
   "outputs": [],
   "source": [
    "from sklearn.gaussian_process import GaussianProcessClassifier\n",
    "gp_model= GaussianProcessClassifier(kernel=None)"
   ]
  },
  {
   "cell_type": "code",
   "execution_count": 65,
   "id": "5227cc0c",
   "metadata": {},
   "outputs": [
    {
     "data": {
      "text/plain": [
       "GaussianProcessClassifier()"
      ]
     },
     "execution_count": 65,
     "metadata": {},
     "output_type": "execute_result"
    }
   ],
   "source": [
    "gp_model.fit(X_for_RF, y_train)"
   ]
  },
  {
   "cell_type": "code",
   "execution_count": 66,
   "id": "dd797cc3",
   "metadata": {},
   "outputs": [],
   "source": [
    "prediction_RF = gp_model.predict(X_test_features)"
   ]
  },
  {
   "cell_type": "code",
   "execution_count": 67,
   "id": "f401eedf",
   "metadata": {},
   "outputs": [],
   "source": [
    "prediction_RF = le.inverse_transform(prediction_RF)"
   ]
  },
  {
   "cell_type": "code",
   "execution_count": 68,
   "id": "a39dd31f",
   "metadata": {},
   "outputs": [
    {
     "name": "stdout",
     "output_type": "stream",
     "text": [
      "Accuracy =  0.8421052631578947\n"
     ]
    }
   ],
   "source": [
    "from sklearn import metrics\n",
    "print (\"Accuracy = \", metrics.accuracy_score(test_labels, prediction_RF))\n"
   ]
  },
  {
   "cell_type": "code",
   "execution_count": 69,
   "id": "183413c7",
   "metadata": {},
   "outputs": [],
   "source": [
    "from sklearn.svm import SVC\n",
    "rbf_svm_model=SVC(kernel='rbf')"
   ]
  },
  {
   "cell_type": "code",
   "execution_count": 70,
   "id": "46cc7981",
   "metadata": {},
   "outputs": [
    {
     "data": {
      "text/plain": [
       "SVC()"
      ]
     },
     "execution_count": 70,
     "metadata": {},
     "output_type": "execute_result"
    }
   ],
   "source": [
    "rbf_svm_model.fit(X_for_RF, y_train)"
   ]
  },
  {
   "cell_type": "code",
   "execution_count": 71,
   "id": "e55e461f",
   "metadata": {},
   "outputs": [],
   "source": [
    "prediction_RF = rbf_svm_model.predict(X_test_features)"
   ]
  },
  {
   "cell_type": "code",
   "execution_count": 72,
   "id": "f0b752d4",
   "metadata": {},
   "outputs": [],
   "source": [
    "prediction_RF = le.inverse_transform(prediction_RF)"
   ]
  },
  {
   "cell_type": "code",
   "execution_count": 73,
   "id": "47955da0",
   "metadata": {},
   "outputs": [
    {
     "name": "stdout",
     "output_type": "stream",
     "text": [
      "Accuracy =  0.7894736842105263\n"
     ]
    }
   ],
   "source": [
    "from sklearn import metrics\n",
    "print (\"Accuracy = \", metrics.accuracy_score(test_labels, prediction_RF))\n"
   ]
  },
  {
   "cell_type": "code",
   "execution_count": 90,
   "id": "820acb56",
   "metadata": {},
   "outputs": [],
   "source": [
    "from sklearn.neural_network import MLPClassifier\n",
    "nn_model=MLPClassifier(hidden_layer_sizes=100, activation='relu',solver='sgd', alpha=0.001, batch_size='auto', learning_rate='constant', learning_rate_init=0.001)"
   ]
  },
  {
   "cell_type": "code",
   "execution_count": 91,
   "id": "e2eced8f",
   "metadata": {},
   "outputs": [
    {
     "data": {
      "text/plain": [
       "MLPClassifier(alpha=0.001, hidden_layer_sizes=100, solver='sgd')"
      ]
     },
     "execution_count": 91,
     "metadata": {},
     "output_type": "execute_result"
    }
   ],
   "source": [
    "nn_model.fit(X_for_RF, y_train)"
   ]
  },
  {
   "cell_type": "code",
   "execution_count": 92,
   "id": "95bc3c14",
   "metadata": {},
   "outputs": [],
   "source": [
    "prediction_RF = nn_model.predict(X_test_features)"
   ]
  },
  {
   "cell_type": "code",
   "execution_count": 93,
   "id": "6a55f126",
   "metadata": {},
   "outputs": [],
   "source": [
    "prediction_RF = le.inverse_transform(prediction_RF)"
   ]
  },
  {
   "cell_type": "code",
   "execution_count": 94,
   "id": "0185d976",
   "metadata": {},
   "outputs": [
    {
     "name": "stdout",
     "output_type": "stream",
     "text": [
      "Accuracy =  0.8947368421052632\n"
     ]
    }
   ],
   "source": [
    "from sklearn import metrics\n",
    "print (\"Accuracy = \", metrics.accuracy_score(test_labels, prediction_RF))\n"
   ]
  },
  {
   "cell_type": "code",
   "execution_count": null,
   "id": "d128c0e7",
   "metadata": {},
   "outputs": [],
   "source": []
  }
 ],
 "metadata": {
  "kernelspec": {
   "display_name": "Python 3",
   "language": "python",
   "name": "python3"
  },
  "language_info": {
   "codemirror_mode": {
    "name": "ipython",
    "version": 3
   },
   "file_extension": ".py",
   "mimetype": "text/x-python",
   "name": "python",
   "nbconvert_exporter": "python",
   "pygments_lexer": "ipython3",
   "version": "3.8.8"
  }
 },
 "nbformat": 4,
 "nbformat_minor": 5
}
