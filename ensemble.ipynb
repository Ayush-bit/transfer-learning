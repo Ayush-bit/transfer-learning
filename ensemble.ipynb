{
 "cells": [
  {
   "cell_type": "code",
   "execution_count": 1,
   "id": "3ff1e7cd",
   "metadata": {},
   "outputs": [],
   "source": [
    "import numpy as np \n",
    "import matplotlib.pyplot as plt\n",
    "import glob\n",
    "import cv2\n"
   ]
  },
  {
   "cell_type": "code",
   "execution_count": 2,
   "id": "dedaeb2b",
   "metadata": {},
   "outputs": [],
   "source": [
    "from keras.models import Model, Sequential\n",
    "from keras.layers import Dense, Flatten, Conv2D, MaxPooling2D\n",
    "from keras.layers.normalization import BatchNormalization\n",
    "import os\n",
    "import seaborn as sns\n",
    "from keras.applications.vgg16 import VGG16\n",
    "from sklearn.metrics import roc_curve\n",
    "from sklearn.metrics import roc_auc_score"
   ]
  },
  {
   "cell_type": "code",
   "execution_count": 3,
   "id": "ed952587",
   "metadata": {},
   "outputs": [
    {
     "name": "stdout",
     "output_type": "stream",
     "text": [
      "['test', 'train']\n"
     ]
    }
   ],
   "source": [
    "print(os.listdir(r\"C:\\Users\\hp\\Downloads\\Images\"))"
   ]
  },
  {
   "cell_type": "code",
   "execution_count": 4,
   "id": "caa919f4",
   "metadata": {},
   "outputs": [],
   "source": [
    "SIZE = 256"
   ]
  },
  {
   "cell_type": "code",
   "execution_count": 5,
   "id": "4220c988",
   "metadata": {},
   "outputs": [],
   "source": [
    "train_images = []\n",
    "train_labels = [] \n"
   ]
  },
  {
   "cell_type": "code",
   "execution_count": 6,
   "id": "6faabdf8",
   "metadata": {},
   "outputs": [
    {
     "name": "stdout",
     "output_type": "stream",
     "text": [
      "covid\n",
      "C:\\Users\\hp\\Downloads\\Images\\train\\covid\\f.jpeg\n",
      "C:\\Users\\hp\\Downloads\\Images\\train\\covid\\g.jpeg\n",
      "C:\\Users\\hp\\Downloads\\Images\\train\\covid\\h.jpeg\n",
      "C:\\Users\\hp\\Downloads\\Images\\train\\covid\\i.jpeg\n",
      "C:\\Users\\hp\\Downloads\\Images\\train\\covid\\l.jpeg\n",
      "C:\\Users\\hp\\Downloads\\Images\\train\\covid\\m.jpeg\n",
      "C:\\Users\\hp\\Downloads\\Images\\train\\covid\\n.jpeg\n",
      "C:\\Users\\hp\\Downloads\\Images\\train\\covid\\o.jpeg\n",
      "C:\\Users\\hp\\Downloads\\Images\\train\\covid\\p.jpeg\n",
      "C:\\Users\\hp\\Downloads\\Images\\train\\covid\\q.jpeg\n",
      "C:\\Users\\hp\\Downloads\\Images\\train\\covid\\r.jpeg\n",
      "C:\\Users\\hp\\Downloads\\Images\\train\\covid\\s.jpeg\n",
      "C:\\Users\\hp\\Downloads\\Images\\train\\covid\\t.jpeg\n",
      "non-covid\n",
      "C:\\Users\\hp\\Downloads\\Images\\train\\non-covid\\10.jpeg\n",
      "C:\\Users\\hp\\Downloads\\Images\\train\\non-covid\\11.jpeg\n",
      "C:\\Users\\hp\\Downloads\\Images\\train\\non-covid\\12.jpeg\n",
      "C:\\Users\\hp\\Downloads\\Images\\train\\non-covid\\13.jpeg\n",
      "C:\\Users\\hp\\Downloads\\Images\\train\\non-covid\\14.jpeg\n",
      "C:\\Users\\hp\\Downloads\\Images\\train\\non-covid\\15.jpeg\n",
      "C:\\Users\\hp\\Downloads\\Images\\train\\non-covid\\16.jpeg\n",
      "C:\\Users\\hp\\Downloads\\Images\\train\\non-covid\\17.jpeg\n",
      "C:\\Users\\hp\\Downloads\\Images\\train\\non-covid\\18.jpeg\n",
      "C:\\Users\\hp\\Downloads\\Images\\train\\non-covid\\19.jpeg\n",
      "C:\\Users\\hp\\Downloads\\Images\\train\\non-covid\\20.jpeg\n",
      "C:\\Users\\hp\\Downloads\\Images\\train\\non-covid\\21.jpeg\n",
      "C:\\Users\\hp\\Downloads\\Images\\train\\non-covid\\22.jpeg\n",
      "C:\\Users\\hp\\Downloads\\Images\\train\\non-covid\\23.jpeg\n",
      "C:\\Users\\hp\\Downloads\\Images\\train\\non-covid\\24.jpeg\n",
      "C:\\Users\\hp\\Downloads\\Images\\train\\non-covid\\25.jpeg\n",
      "C:\\Users\\hp\\Downloads\\Images\\train\\non-covid\\26.jpeg\n",
      "C:\\Users\\hp\\Downloads\\Images\\train\\non-covid\\27.jpeg\n",
      "C:\\Users\\hp\\Downloads\\Images\\train\\non-covid\\28.jpeg\n",
      "C:\\Users\\hp\\Downloads\\Images\\train\\non-covid\\29.jpeg\n",
      "C:\\Users\\hp\\Downloads\\Images\\train\\non-covid\\3.jpeg\n",
      "C:\\Users\\hp\\Downloads\\Images\\train\\non-covid\\30.jpeg\n",
      "C:\\Users\\hp\\Downloads\\Images\\train\\non-covid\\31.jpeg\n",
      "C:\\Users\\hp\\Downloads\\Images\\train\\non-covid\\32.jpeg\n",
      "C:\\Users\\hp\\Downloads\\Images\\train\\non-covid\\33.jpeg\n",
      "C:\\Users\\hp\\Downloads\\Images\\train\\non-covid\\34.jpeg\n",
      "C:\\Users\\hp\\Downloads\\Images\\train\\non-covid\\35.jpeg\n",
      "C:\\Users\\hp\\Downloads\\Images\\train\\non-covid\\36.jpeg\n",
      "C:\\Users\\hp\\Downloads\\Images\\train\\non-covid\\37.jpeg\n",
      "C:\\Users\\hp\\Downloads\\Images\\train\\non-covid\\38.jpeg\n",
      "C:\\Users\\hp\\Downloads\\Images\\train\\non-covid\\39.jpeg\n",
      "C:\\Users\\hp\\Downloads\\Images\\train\\non-covid\\4.jpeg\n",
      "C:\\Users\\hp\\Downloads\\Images\\train\\non-covid\\40.jpeg\n",
      "C:\\Users\\hp\\Downloads\\Images\\train\\non-covid\\41.jpeg\n",
      "C:\\Users\\hp\\Downloads\\Images\\train\\non-covid\\42.jpeg\n",
      "C:\\Users\\hp\\Downloads\\Images\\train\\non-covid\\43.jpeg\n",
      "C:\\Users\\hp\\Downloads\\Images\\train\\non-covid\\44.jpeg\n",
      "C:\\Users\\hp\\Downloads\\Images\\train\\non-covid\\45.jpeg\n",
      "C:\\Users\\hp\\Downloads\\Images\\train\\non-covid\\46.jpeg\n",
      "C:\\Users\\hp\\Downloads\\Images\\train\\non-covid\\47.jpeg\n",
      "C:\\Users\\hp\\Downloads\\Images\\train\\non-covid\\48.jpeg\n",
      "C:\\Users\\hp\\Downloads\\Images\\train\\non-covid\\49.jpeg\n",
      "C:\\Users\\hp\\Downloads\\Images\\train\\non-covid\\5.jpeg\n",
      "C:\\Users\\hp\\Downloads\\Images\\train\\non-covid\\50.jpeg\n",
      "C:\\Users\\hp\\Downloads\\Images\\train\\non-covid\\51.jpeg\n",
      "C:\\Users\\hp\\Downloads\\Images\\train\\non-covid\\52.jpeg\n",
      "C:\\Users\\hp\\Downloads\\Images\\train\\non-covid\\53.jpeg\n",
      "C:\\Users\\hp\\Downloads\\Images\\train\\non-covid\\54.jpeg\n",
      "C:\\Users\\hp\\Downloads\\Images\\train\\non-covid\\55.jpeg\n",
      "C:\\Users\\hp\\Downloads\\Images\\train\\non-covid\\56.jpeg\n",
      "C:\\Users\\hp\\Downloads\\Images\\train\\non-covid\\57.jpeg\n",
      "C:\\Users\\hp\\Downloads\\Images\\train\\non-covid\\58.jpeg\n",
      "C:\\Users\\hp\\Downloads\\Images\\train\\non-covid\\59.jpeg\n",
      "C:\\Users\\hp\\Downloads\\Images\\train\\non-covid\\6.jpeg\n",
      "C:\\Users\\hp\\Downloads\\Images\\train\\non-covid\\60.jpeg\n",
      "C:\\Users\\hp\\Downloads\\Images\\train\\non-covid\\61.jpeg\n",
      "C:\\Users\\hp\\Downloads\\Images\\train\\non-covid\\62.jpeg\n",
      "C:\\Users\\hp\\Downloads\\Images\\train\\non-covid\\7.jpeg\n",
      "C:\\Users\\hp\\Downloads\\Images\\train\\non-covid\\8.jpeg\n",
      "C:\\Users\\hp\\Downloads\\Images\\train\\non-covid\\9.jpeg\n"
     ]
    }
   ],
   "source": [
    "for directory_path in glob.glob(r\"C:\\Users\\hp\\Downloads\\Images\\train\\*\"):\n",
    "    label = directory_path.split(\"\\\\\")[-1]\n",
    "    print(label)\n",
    "    for img_path in glob.glob(os.path.join(directory_path, \"*.jpeg\")):\n",
    "        print(img_path)\n",
    "        img = cv2.imread(img_path, cv2.IMREAD_COLOR)       \n",
    "        img = cv2.resize(img, (SIZE, SIZE))\n",
    "        img = cv2.cvtColor(img, cv2.COLOR_RGB2BGR)\n",
    "        train_images.append(img)\n",
    "        train_labels.append(label)"
   ]
  },
  {
   "cell_type": "code",
   "execution_count": 7,
   "id": "9840ffac",
   "metadata": {},
   "outputs": [],
   "source": [
    "train_images = np.array(train_images)\n",
    "train_labels = np.array(train_labels)\n"
   ]
  },
  {
   "cell_type": "code",
   "execution_count": 8,
   "id": "ca1b47c7",
   "metadata": {},
   "outputs": [
    {
     "data": {
      "text/plain": [
       "(73, 256, 256, 3)"
      ]
     },
     "execution_count": 8,
     "metadata": {},
     "output_type": "execute_result"
    }
   ],
   "source": [
    "train_images.shape"
   ]
  },
  {
   "cell_type": "code",
   "execution_count": 9,
   "id": "b7318b06",
   "metadata": {},
   "outputs": [
    {
     "data": {
      "text/plain": [
       "(73,)"
      ]
     },
     "execution_count": 9,
     "metadata": {},
     "output_type": "execute_result"
    }
   ],
   "source": [
    "train_labels.shape"
   ]
  },
  {
   "cell_type": "code",
   "execution_count": 10,
   "id": "b3b42b15",
   "metadata": {},
   "outputs": [
    {
     "name": "stdout",
     "output_type": "stream",
     "text": [
      "covid\n",
      "non-covid\n"
     ]
    }
   ],
   "source": [
    "test_images = []\n",
    "test_labels = [] \n",
    "for directory_path in glob.glob(r\"C:\\Users\\hp\\Downloads\\Images\\test\\*\"):\n",
    "    Label = directory_path.split(\"\\\\\")[-1]\n",
    "    print(Label)\n",
    "    for img_path in glob.glob(os.path.join(directory_path, \"*.jpeg\")):\n",
    "        img = cv2.imread(img_path, cv2.IMREAD_COLOR)\n",
    "        img = cv2.resize(img, (SIZE, SIZE))\n",
    "        img = cv2.cvtColor(img, cv2.COLOR_RGB2BGR)\n",
    "        test_images.append(img)\n",
    "        test_labels.append(Label)"
   ]
  },
  {
   "cell_type": "code",
   "execution_count": 11,
   "id": "54a2ab12",
   "metadata": {},
   "outputs": [],
   "source": [
    "test_images = np.array(test_images)\n",
    "test_labels = np.array(test_labels)"
   ]
  },
  {
   "cell_type": "code",
   "execution_count": 12,
   "id": "157d05bf",
   "metadata": {},
   "outputs": [
    {
     "data": {
      "text/plain": [
       "(19, 256, 256, 3)"
      ]
     },
     "execution_count": 12,
     "metadata": {},
     "output_type": "execute_result"
    }
   ],
   "source": [
    "test_images.shape"
   ]
  },
  {
   "cell_type": "code",
   "execution_count": 13,
   "id": "6e66423b",
   "metadata": {},
   "outputs": [],
   "source": [
    "from sklearn import preprocessing\n",
    "le = preprocessing.LabelEncoder()\n",
    "le.fit(test_labels)\n",
    "test_labels_encoded = le.transform(test_labels)\n",
    "le.fit(train_labels)\n",
    "train_labels_encoded = le.transform(train_labels)"
   ]
  },
  {
   "cell_type": "code",
   "execution_count": 14,
   "id": "6df264e5",
   "metadata": {},
   "outputs": [],
   "source": [
    "x_train, y_train, x_test, y_test = train_images, train_labels_encoded, test_images, test_labels_encoded\n"
   ]
  },
  {
   "cell_type": "code",
   "execution_count": 15,
   "id": "c8b4cc0e",
   "metadata": {},
   "outputs": [],
   "source": [
    "x_train, x_test = x_train / 255.0, x_test / 255.0"
   ]
  },
  {
   "cell_type": "code",
   "execution_count": 16,
   "id": "48f0f259",
   "metadata": {},
   "outputs": [],
   "source": [
    "from keras.utils import to_categorical\n",
    "y_train_one_hot = to_categorical(y_train)\n",
    "y_test_one_hot = to_categorical(y_test)\n"
   ]
  },
  {
   "cell_type": "code",
   "execution_count": 17,
   "id": "2644cab4",
   "metadata": {},
   "outputs": [],
   "source": [
    "VGG_model = VGG16(weights='imagenet', include_top=False, input_shape=(SIZE, SIZE, 3))\n"
   ]
  },
  {
   "cell_type": "code",
   "execution_count": 18,
   "id": "813d84b7",
   "metadata": {},
   "outputs": [],
   "source": [
    "for layer in VGG_model.layers:\n",
    " layer.trainable = False"
   ]
  },
  {
   "cell_type": "code",
   "execution_count": 19,
   "id": "d16e3cc1",
   "metadata": {},
   "outputs": [
    {
     "name": "stdout",
     "output_type": "stream",
     "text": [
      "Model: \"vgg16\"\n",
      "_________________________________________________________________\n",
      "Layer (type)                 Output Shape              Param #   \n",
      "=================================================================\n",
      "input_1 (InputLayer)         [(None, 256, 256, 3)]     0         \n",
      "_________________________________________________________________\n",
      "block1_conv1 (Conv2D)        (None, 256, 256, 64)      1792      \n",
      "_________________________________________________________________\n",
      "block1_conv2 (Conv2D)        (None, 256, 256, 64)      36928     \n",
      "_________________________________________________________________\n",
      "block1_pool (MaxPooling2D)   (None, 128, 128, 64)      0         \n",
      "_________________________________________________________________\n",
      "block2_conv1 (Conv2D)        (None, 128, 128, 128)     73856     \n",
      "_________________________________________________________________\n",
      "block2_conv2 (Conv2D)        (None, 128, 128, 128)     147584    \n",
      "_________________________________________________________________\n",
      "block2_pool (MaxPooling2D)   (None, 64, 64, 128)       0         \n",
      "_________________________________________________________________\n",
      "block3_conv1 (Conv2D)        (None, 64, 64, 256)       295168    \n",
      "_________________________________________________________________\n",
      "block3_conv2 (Conv2D)        (None, 64, 64, 256)       590080    \n",
      "_________________________________________________________________\n",
      "block3_conv3 (Conv2D)        (None, 64, 64, 256)       590080    \n",
      "_________________________________________________________________\n",
      "block3_pool (MaxPooling2D)   (None, 32, 32, 256)       0         \n",
      "_________________________________________________________________\n",
      "block4_conv1 (Conv2D)        (None, 32, 32, 512)       1180160   \n",
      "_________________________________________________________________\n",
      "block4_conv2 (Conv2D)        (None, 32, 32, 512)       2359808   \n",
      "_________________________________________________________________\n",
      "block4_conv3 (Conv2D)        (None, 32, 32, 512)       2359808   \n",
      "_________________________________________________________________\n",
      "block4_pool (MaxPooling2D)   (None, 16, 16, 512)       0         \n",
      "_________________________________________________________________\n",
      "block5_conv1 (Conv2D)        (None, 16, 16, 512)       2359808   \n",
      "_________________________________________________________________\n",
      "block5_conv2 (Conv2D)        (None, 16, 16, 512)       2359808   \n",
      "_________________________________________________________________\n",
      "block5_conv3 (Conv2D)        (None, 16, 16, 512)       2359808   \n",
      "_________________________________________________________________\n",
      "block5_pool (MaxPooling2D)   (None, 8, 8, 512)         0         \n",
      "=================================================================\n",
      "Total params: 14,714,688\n",
      "Trainable params: 0\n",
      "Non-trainable params: 14,714,688\n",
      "_________________________________________________________________\n"
     ]
    }
   ],
   "source": [
    "VGG_model.summary()"
   ]
  },
  {
   "cell_type": "code",
   "execution_count": 20,
   "id": "9a92db4e",
   "metadata": {},
   "outputs": [],
   "source": [
    "feature_extractor=VGG_model.predict(x_train)"
   ]
  },
  {
   "cell_type": "code",
   "execution_count": 21,
   "id": "7ec7527c",
   "metadata": {},
   "outputs": [],
   "source": [
    "features = feature_extractor.reshape(feature_extractor.shape[0], -1)"
   ]
  },
  {
   "cell_type": "code",
   "execution_count": 22,
   "id": "14850a2b",
   "metadata": {},
   "outputs": [],
   "source": [
    "X_for_RF = features"
   ]
  },
  {
   "cell_type": "code",
   "execution_count": 23,
   "id": "27ee7896",
   "metadata": {},
   "outputs": [],
   "source": [
    "X_test_feature = VGG_model.predict(x_test)\n",
    "X_test_features = X_test_feature.reshape(X_test_feature.shape[0], -1)"
   ]
  },
  {
   "cell_type": "code",
   "execution_count": 24,
   "id": "49298763",
   "metadata": {},
   "outputs": [],
   "source": [
    "from sklearn.decomposition import PCA"
   ]
  },
  {
   "cell_type": "code",
   "execution_count": 25,
   "id": "d944d6ab",
   "metadata": {},
   "outputs": [],
   "source": [
    "pca = PCA(n_components=2)"
   ]
  },
  {
   "cell_type": "code",
   "execution_count": 26,
   "id": "b9c61195",
   "metadata": {},
   "outputs": [],
   "source": [
    "X_train_pca = pca.fit_transform(X_for_RF)\n",
    "X_test_pca = pca.transform(X_test_features)"
   ]
  },
  {
   "cell_type": "code",
   "execution_count": 27,
   "id": "036a7f4c",
   "metadata": {},
   "outputs": [],
   "source": [
    "from sklearn.neural_network import MLPClassifier\n",
    "nn_model1=MLPClassifier(hidden_layer_sizes=50, activation='relu',solver='sgd', alpha=0.001, batch_size='auto', learning_rate='constant', learning_rate_init=0.001)\n",
    "nn_model2=MLPClassifier(hidden_layer_sizes=55, activation='relu',solver='adam', alpha=0.001, batch_size='auto', learning_rate='constant', learning_rate_init=0.001)\n",
    "nn_model3=MLPClassifier(hidden_layer_sizes=60, activation='relu',solver='sgd', alpha=0.001, batch_size='auto', learning_rate='constant', learning_rate_init=0.001)\n",
    "nn_model4=MLPClassifier(hidden_layer_sizes=65, activation='relu',solver='sgd', alpha=0.001, batch_size='auto', learning_rate='constant', learning_rate_init=0.001)\n",
    "nn_model5=MLPClassifier(hidden_layer_sizes=70, activation='relu',solver='sgd', alpha=0.001, batch_size='auto', learning_rate='constant', learning_rate_init=0.001)\n",
    "nn_model6=MLPClassifier(hidden_layer_sizes=75, activation='relu',solver='sgd', alpha=0.001, batch_size='auto', learning_rate='constant', learning_rate_init=0.001)\n",
    "nn_model7=MLPClassifier(hidden_layer_sizes=80, activation='relu',solver='sgd', alpha=0.001, batch_size='auto', learning_rate='constant', learning_rate_init=0.001)\n",
    "nn_model8=MLPClassifier(hidden_layer_sizes=85, activation='relu',solver='sgd', alpha=0.001, batch_size='auto', learning_rate='constant', learning_rate_init=0.001)\n",
    "nn_model9=MLPClassifier(hidden_layer_sizes=90, activation='relu',solver='sgd', alpha=0.001, batch_size='auto', learning_rate='constant', learning_rate_init=0.001)\n",
    "nn_model10=MLPClassifier(hidden_layer_sizes=95, activation='relu',solver='sgd', alpha=0.001, batch_size='auto', learning_rate='constant', learning_rate_init=0.001)\n",
    "nn_model11=MLPClassifier(hidden_layer_sizes=100, activation='relu',solver='sgd', alpha=0.001, batch_size='auto', learning_rate='constant', learning_rate_init=0.001)\n",
    "nn_model12=MLPClassifier(hidden_layer_sizes=97, activation='relu',solver='sgd', alpha=0.001, batch_size='auto', learning_rate='constant', learning_rate_init=0.001)\n",
    "nn_model13=MLPClassifier(hidden_layer_sizes=93, activation='relu',solver='sgd', alpha=0.001, batch_size='auto', learning_rate='constant', learning_rate_init=0.001)\n",
    "nn_model14=MLPClassifier(hidden_layer_sizes=87, activation='relu',solver='sgd', alpha=0.001, batch_size='auto', learning_rate='constant', learning_rate_init=0.001)\n",
    "nn_model15=MLPClassifier(hidden_layer_sizes=83, activation='relu',solver='sgd', alpha=0.001, batch_size='auto', learning_rate='constant', learning_rate_init=0.001)\n",
    "nn_model16=MLPClassifier(hidden_layer_sizes=77, activation='relu',solver='sgd', alpha=0.001, batch_size='auto', learning_rate='constant', learning_rate_init=0.001)\n",
    "nn_model17=MLPClassifier(hidden_layer_sizes=73, activation='relu',solver='sgd', alpha=0.001, batch_size='auto', learning_rate='constant', learning_rate_init=0.001)\n",
    "nn_model18=MLPClassifier(hidden_layer_sizes=67, activation='relu',solver='sgd', alpha=0.001, batch_size='auto', learning_rate='constant', learning_rate_init=0.001)\n",
    "nn_model19=MLPClassifier(hidden_layer_sizes=63, activation='relu',solver='sgd', alpha=0.001, batch_size='auto', learning_rate='constant', learning_rate_init=0.001)\n",
    "nn_model20=MLPClassifier(hidden_layer_sizes=57, activation='relu',solver='sgd', alpha=0.001, batch_size='auto', learning_rate='constant', learning_rate_init=0.001)"
   ]
  },
  {
   "cell_type": "code",
   "execution_count": 28,
   "id": "befb0202",
   "metadata": {},
   "outputs": [
    {
     "name": "stderr",
     "output_type": "stream",
     "text": [
      "C:\\Users\\hp\\.conda\\envs\\DeepLearning\\lib\\site-packages\\sklearn\\neural_network\\_multilayer_perceptron.py:614: ConvergenceWarning: Stochastic Optimizer: Maximum iterations (200) reached and the optimization hasn't converged yet.\n",
      "  warnings.warn(\n",
      "C:\\Users\\hp\\.conda\\envs\\DeepLearning\\lib\\site-packages\\sklearn\\neural_network\\_multilayer_perceptron.py:614: ConvergenceWarning: Stochastic Optimizer: Maximum iterations (200) reached and the optimization hasn't converged yet.\n",
      "  warnings.warn(\n",
      "C:\\Users\\hp\\.conda\\envs\\DeepLearning\\lib\\site-packages\\sklearn\\neural_network\\_multilayer_perceptron.py:614: ConvergenceWarning: Stochastic Optimizer: Maximum iterations (200) reached and the optimization hasn't converged yet.\n",
      "  warnings.warn(\n"
     ]
    },
    {
     "data": {
      "text/plain": [
       "MLPClassifier(alpha=0.001, hidden_layer_sizes=57, solver='sgd')"
      ]
     },
     "execution_count": 28,
     "metadata": {},
     "output_type": "execute_result"
    }
   ],
   "source": [
    "nn_model1.fit(X_train_pca, y_train)\n",
    "nn_model2.fit(X_train_pca, y_train)\n",
    "nn_model3.fit(X_train_pca, y_train)\n",
    "nn_model4.fit(X_train_pca, y_train)\n",
    "nn_model5.fit(X_train_pca, y_train)\n",
    "nn_model6.fit(X_train_pca, y_train)\n",
    "nn_model7.fit(X_train_pca, y_train)\n",
    "nn_model8.fit(X_train_pca, y_train)\n",
    "nn_model9.fit(X_train_pca, y_train)\n",
    "nn_model10.fit(X_train_pca, y_train)\n",
    "nn_model11.fit(X_train_pca, y_train)\n",
    "nn_model12.fit(X_train_pca, y_train)\n",
    "nn_model13.fit(X_train_pca, y_train)\n",
    "nn_model14.fit(X_train_pca, y_train)\n",
    "nn_model15.fit(X_train_pca, y_train)\n",
    "nn_model16.fit(X_train_pca, y_train)\n",
    "nn_model17.fit(X_train_pca, y_train)\n",
    "nn_model18.fit(X_train_pca, y_train)\n",
    "nn_model19.fit(X_train_pca, y_train)\n",
    "nn_model20.fit(X_train_pca, y_train)"
   ]
  },
  {
   "cell_type": "code",
   "execution_count": 29,
   "id": "91643843",
   "metadata": {},
   "outputs": [],
   "source": [
    "ensemble = [nn_model1,nn_model2,nn_model3,nn_model4,nn_model5,nn_model6,nn_model7,nn_model8,nn_model9,nn_model10,nn_model11,nn_model12,nn_model13,nn_model14,nn_model15,nn_model16,nn_model17,nn_model18,nn_model19,nn_model20]\n",
    "\n",
    "\n"
   ]
  },
  {
   "cell_type": "code",
   "execution_count": 33,
   "id": "dcf4e489",
   "metadata": {},
   "outputs": [
    {
     "data": {
      "image/png": "[encoded data removed]",
      "text/plain": [
       "<Figure size 432x288 with 1 Axes>"
      ]
     },
     "metadata": {
      "needs_background": "light"
     },
     "output_type": "display_data"
    }
   ],
   "source": [
    "from matplotlib.colors import ListedColormap\n",
    "\n",
    "def plot_decision_regions(X, y, classifier, resolution=0.02):\n",
    "\n",
    "    markers = ('s', 'x', 'o', '^', 'v')\n",
    "    colors = ('yellow', 'red', 'lightgreen', 'gray', 'cyan')\n",
    "    cmap = ListedColormap(colors[:len(np.unique(y))])\n",
    "    \n",
    "    x1_min, x1_max = X[:, 0].min() - 1, X[:, 0].max() + 1\n",
    "    x2_min, x2_max = X[:, 1].min() - 1, X[:, 1].max() + 1\n",
    "    xx1, xx2 = np.meshgrid(np.arange(x1_min, x1_max, resolution),\n",
    "                           np.arange(x2_min, x2_max, resolution))\n",
    "    Z = classifier.predict(np.array([xx1.ravel(), xx2.ravel()]).T)\n",
    "    Z = Z.reshape(xx1.shape)\n",
    "    plt.contourf(xx1, xx2, Z, alpha=0.4, cmap=cmap)\n",
    "    plt.xlim(xx1.min(), xx1.max())\n",
    "    plt.ylim(xx2.min(), xx2.max())\n",
    "\n",
    "    for idx, cl in enumerate(np.unique(y)):\n",
    "        plt.scatter(x=X[y == cl, 0], \n",
    "                    y=X[y == cl, 1],\n",
    "                    alpha=0.6, \n",
    "                    c=[cmap(idx)],\n",
    "                    edgecolor='black',\n",
    "                    marker=markers[idx], \n",
    "                    label=cl)\n",
    "\n",
    "for model in ensemble:\n",
    " plot_decision_regions(X_train_pca, y_train, classifier=model)\n",
    "plt.show()"
   ]
  },
  {
   "cell_type": "code",
   "execution_count": null,
   "id": "b4b617bc",
   "metadata": {},
   "outputs": [],
   "source": []
  }
 ],
 "metadata": {
  "kernelspec": {
   "display_name": "Python 3",
   "language": "python",
   "name": "python3"
  },
  "language_info": {
   "codemirror_mode": {
    "name": "ipython",
    "version": 3
   },
   "file_extension": ".py",
   "mimetype": "text/x-python",
   "name": "python",
   "nbconvert_exporter": "python",
   "pygments_lexer": "ipython3",
   "version": "3.8.8"
  }
 },
 "nbformat": 4,
 "nbformat_minor": 5
}
